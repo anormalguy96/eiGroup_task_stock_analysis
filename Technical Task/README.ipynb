{
 "cells": [
  {
   "cell_type": "markdown",
   "id": "548dd6ab",
   "metadata": {},
   "source": [
    "**Description:**\n",
    "\n",
    "The code in the `task.py` file is a linear script for reading a CSV file and generating indicators from historical price data of the stock based on the company name. Optionally, results can be exported to another CSV file. The indicators' parameters are hard-coded.\n",
    "\n",
    "**Objective:** Refactor this script to be more structured, scalable, and configurable (including parameters of indicators) so that it can be used as a library in different projects.\n",
    "\n",
    "**Task:**\n",
    "\n",
    "1. Refactor the code using your knowledge of Object-Oriented Programming (OOP) and Data Structures. You may use multiple Python files.\n",
    "2. In case you divide code into multiple Python files, please create a `stock_analysis` folder and store your files in that folder.\n",
    "3. Import the refactored code into a Jupyter Notebook and use it as a library to create examples.\n",
    "4. Create a zip file which consists of Jupyter Notebook and your refactored source code.\n",
    "\n",
    "**Guidelines:**\n",
    "\n",
    "- In this folder, there are 3 example CSV files for testing and generating examples.\n",
    "- Ensure you have a main class named `StockAnalysis` which will be imported into the Jupyter Notebook for generating the example.\n",
    "- This task does not have a single exact correct answer, so feel free to be creative with the structure and examples."
   ]
  }
 ],
 "metadata": {
  "language_info": {
   "name": "python"
  }
 },
 "nbformat": 4,
 "nbformat_minor": 5
}
